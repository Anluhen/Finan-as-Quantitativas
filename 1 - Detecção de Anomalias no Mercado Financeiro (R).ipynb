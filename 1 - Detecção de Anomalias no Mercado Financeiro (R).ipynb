{
 "cells": [
  {
   "cell_type": "code",
   "execution_count": 1,
   "id": "62d80f62",
   "metadata": {},
   "outputs": [],
   "source": [
    "#install.packages(\"quantmod\")\n",
    "#install.packages(\"AnomalyDetection\")\n",
    "#install.packages(\"hrbrthemes\")"
   ]
  },
  {
   "cell_type": "code",
   "execution_count": 2,
   "id": "f097aecd",
   "metadata": {},
   "outputs": [
    {
     "name": "stderr",
     "output_type": "stream",
     "text": [
      "Warning message:\n",
      "\"package 'quantmod' was built under R version 3.6.3\"Loading required package: xts\n",
      "Loading required package: zoo\n",
      "\n",
      "Attaching package: 'zoo'\n",
      "\n",
      "The following objects are masked from 'package:base':\n",
      "\n",
      "    as.Date, as.Date.numeric\n",
      "\n",
      "Registered S3 method overwritten by 'xts':\n",
      "  method     from\n",
      "  as.zoo.xts zoo \n",
      "Loading required package: TTR\n",
      "Registered S3 method overwritten by 'quantmod':\n",
      "  method            from\n",
      "  as.zoo.data.frame zoo \n"
     ]
    }
   ],
   "source": [
    "library(quantmod)"
   ]
  },
  {
   "cell_type": "code",
   "execution_count": 68,
   "id": "000c9ea6",
   "metadata": {},
   "outputs": [
    {
     "data": {
      "text/html": [
       "'ABEV'"
      ],
      "text/latex": [
       "'ABEV'"
      ],
      "text/markdown": [
       "'ABEV'"
      ],
      "text/plain": [
       "[1] \"ABEV\""
      ]
     },
     "metadata": {},
     "output_type": "display_data"
    }
   ],
   "source": [
    "# Período de análise\n",
    "startdate <- as.Date(\"2009-01-01\")\n",
    "enddate <- as.Date(\"2022-01-30\")\n",
    "\n",
    "#Selecao dos ativos para analise\n",
    "tickers <- c(\"ABEV\")\n",
    "\n",
    "# Captura dos dados \n",
    "getSymbols(tickers, src = \"yahoo\", from = startdate, to = enddate)\n",
    "\n",
    "# Renomeando o DF\n",
    "names(ABEV) <- c(\"Open\", \"High\", \"Low\", \"Close\", \"Volume\", \"Ajustado\")\n",
    "\n",
    "ASSET <- data.frame(ABEV)"
   ]
  },
  {
   "cell_type": "code",
   "execution_count": 69,
   "id": "bce13ee7",
   "metadata": {},
   "outputs": [
    {
     "data": {
      "text/html": [
       "'C:/Users/andre/Google Drive/Work/OMNP/Finanças Quantitativas'"
      ],
      "text/latex": [
       "'C:/Users/andre/Google Drive/Work/OMNP/Finanças Quantitativas'"
      ],
      "text/markdown": [
       "'C:/Users/andre/Google Drive/Work/OMNP/Finanças Quantitativas'"
      ],
      "text/plain": [
       "[1] \"C:/Users/andre/Google Drive/Work/OMNP/Finanças Quantitativas\""
      ]
     },
     "metadata": {},
     "output_type": "display_data"
    }
   ],
   "source": [
    "getwd()"
   ]
  },
  {
   "cell_type": "code",
   "execution_count": 70,
   "id": "cff25880",
   "metadata": {},
   "outputs": [],
   "source": [
    "# Muda diretório\n",
    "# setwd(\"Dados\")\n",
    "#ASSET <- read.csv(\"EURUSD_Hourly_Bid_2009.09.01_2019.10.02.csv\", sep = \";\")"
   ]
  },
  {
   "cell_type": "code",
   "execution_count": 71,
   "id": "47e55e2f",
   "metadata": {},
   "outputs": [
    {
     "data": {
      "text/html": [
       "<table>\n",
       "<thead><tr><th></th><th scope=col>Open</th><th scope=col>High</th><th scope=col>Low</th><th scope=col>Close</th><th scope=col>Volume</th><th scope=col>Ajustado</th></tr></thead>\n",
       "<tbody>\n",
       "\t<tr><th scope=row>2022-01-21</th><td>2.67    </td><td>2.75    </td><td>2.66    </td><td>2.67    </td><td>23004500</td><td>2.67    </td></tr>\n",
       "\t<tr><th scope=row>2022-01-24</th><td>2.68    </td><td>2.70    </td><td>2.64    </td><td>2.69    </td><td>27975000</td><td>2.69    </td></tr>\n",
       "\t<tr><th scope=row>2022-01-25</th><td>2.67    </td><td>2.79    </td><td>2.66    </td><td>2.79    </td><td>31879800</td><td>2.79    </td></tr>\n",
       "\t<tr><th scope=row>2022-01-26</th><td>2.80    </td><td>2.83    </td><td>2.72    </td><td>2.75    </td><td>46485200</td><td>2.75    </td></tr>\n",
       "\t<tr><th scope=row>2022-01-27</th><td>2.78    </td><td>2.87    </td><td>2.78    </td><td>2.83    </td><td>29825900</td><td>2.83    </td></tr>\n",
       "\t<tr><th scope=row>2022-01-28</th><td>2.82    </td><td>2.82    </td><td>2.74    </td><td>2.77    </td><td>28171200</td><td>2.77    </td></tr>\n",
       "</tbody>\n",
       "</table>\n"
      ],
      "text/latex": [
       "\\begin{tabular}{r|llllll}\n",
       "  & Open & High & Low & Close & Volume & Ajustado\\\\\n",
       "\\hline\n",
       "\t2022-01-21 & 2.67     & 2.75     & 2.66     & 2.67     & 23004500 & 2.67    \\\\\n",
       "\t2022-01-24 & 2.68     & 2.70     & 2.64     & 2.69     & 27975000 & 2.69    \\\\\n",
       "\t2022-01-25 & 2.67     & 2.79     & 2.66     & 2.79     & 31879800 & 2.79    \\\\\n",
       "\t2022-01-26 & 2.80     & 2.83     & 2.72     & 2.75     & 46485200 & 2.75    \\\\\n",
       "\t2022-01-27 & 2.78     & 2.87     & 2.78     & 2.83     & 29825900 & 2.83    \\\\\n",
       "\t2022-01-28 & 2.82     & 2.82     & 2.74     & 2.77     & 28171200 & 2.77    \\\\\n",
       "\\end{tabular}\n"
      ],
      "text/markdown": [
       "\n",
       "| <!--/--> | Open | High | Low | Close | Volume | Ajustado |\n",
       "|---|---|---|---|---|---|---|\n",
       "| 2022-01-21 | 2.67     | 2.75     | 2.66     | 2.67     | 23004500 | 2.67     |\n",
       "| 2022-01-24 | 2.68     | 2.70     | 2.64     | 2.69     | 27975000 | 2.69     |\n",
       "| 2022-01-25 | 2.67     | 2.79     | 2.66     | 2.79     | 31879800 | 2.79     |\n",
       "| 2022-01-26 | 2.80     | 2.83     | 2.72     | 2.75     | 46485200 | 2.75     |\n",
       "| 2022-01-27 | 2.78     | 2.87     | 2.78     | 2.83     | 29825900 | 2.83     |\n",
       "| 2022-01-28 | 2.82     | 2.82     | 2.74     | 2.77     | 28171200 | 2.77     |\n",
       "\n"
      ],
      "text/plain": [
       "           Open High Low  Close Volume   Ajustado\n",
       "2022-01-21 2.67 2.75 2.66 2.67  23004500 2.67    \n",
       "2022-01-24 2.68 2.70 2.64 2.69  27975000 2.69    \n",
       "2022-01-25 2.67 2.79 2.66 2.79  31879800 2.79    \n",
       "2022-01-26 2.80 2.83 2.72 2.75  46485200 2.75    \n",
       "2022-01-27 2.78 2.87 2.78 2.83  29825900 2.83    \n",
       "2022-01-28 2.82 2.82 2.74 2.77  28171200 2.77    "
      ]
     },
     "metadata": {},
     "output_type": "display_data"
    }
   ],
   "source": [
    "tail(ASSET)"
   ]
  },
  {
   "cell_type": "code",
   "execution_count": 72,
   "id": "5b8ed4e8",
   "metadata": {},
   "outputs": [],
   "source": [
    "# names(ASSET)[1] <- \"Date\""
   ]
  },
  {
   "cell_type": "code",
   "execution_count": 73,
   "id": "4cfe6c65",
   "metadata": {},
   "outputs": [
    {
     "data": {
      "text/html": [
       "<table>\n",
       "<thead><tr><th scope=col>Date</th><th scope=col>Open</th><th scope=col>High</th><th scope=col>Low</th><th scope=col>Close</th><th scope=col>Volume</th><th scope=col>Ajustado</th></tr></thead>\n",
       "<tbody>\n",
       "\t<tr><td>2009-01-02</td><td>1.4460    </td><td>1.5200    </td><td>1.4460    </td><td>1.5200    </td><td> 17500    </td><td>0.961255  </td></tr>\n",
       "\t<tr><td>2009-01-05</td><td>1.4836    </td><td>1.5832    </td><td>1.4836    </td><td>1.5400    </td><td>155000    </td><td>0.973904  </td></tr>\n",
       "\t<tr><td>2009-01-06</td><td>1.5360    </td><td>1.5680    </td><td>1.5200    </td><td>1.5680    </td><td> 20000    </td><td>0.991611  </td></tr>\n",
       "\t<tr><td>2009-01-07</td><td>1.5084    </td><td>1.5456    </td><td>1.4804    </td><td>1.5304    </td><td> 25000    </td><td>0.967832  </td></tr>\n",
       "\t<tr><td>2009-01-08</td><td>1.4848    </td><td>1.4976    </td><td>1.4700    </td><td>1.4700    </td><td> 32500    </td><td>0.929635  </td></tr>\n",
       "\t<tr><td>2009-01-09</td><td>1.4800    </td><td>1.4900    </td><td>1.4520    </td><td>1.4900    </td><td> 67500    </td><td>0.942283  </td></tr>\n",
       "</tbody>\n",
       "</table>\n"
      ],
      "text/latex": [
       "\\begin{tabular}{r|lllllll}\n",
       " Date & Open & High & Low & Close & Volume & Ajustado\\\\\n",
       "\\hline\n",
       "\t 2009-01-02 & 1.4460     & 1.5200     & 1.4460     & 1.5200     &  17500     & 0.961255  \\\\\n",
       "\t 2009-01-05 & 1.4836     & 1.5832     & 1.4836     & 1.5400     & 155000     & 0.973904  \\\\\n",
       "\t 2009-01-06 & 1.5360     & 1.5680     & 1.5200     & 1.5680     &  20000     & 0.991611  \\\\\n",
       "\t 2009-01-07 & 1.5084     & 1.5456     & 1.4804     & 1.5304     &  25000     & 0.967832  \\\\\n",
       "\t 2009-01-08 & 1.4848     & 1.4976     & 1.4700     & 1.4700     &  32500     & 0.929635  \\\\\n",
       "\t 2009-01-09 & 1.4800     & 1.4900     & 1.4520     & 1.4900     &  67500     & 0.942283  \\\\\n",
       "\\end{tabular}\n"
      ],
      "text/markdown": [
       "\n",
       "| Date | Open | High | Low | Close | Volume | Ajustado |\n",
       "|---|---|---|---|---|---|---|\n",
       "| 2009-01-02 | 1.4460     | 1.5200     | 1.4460     | 1.5200     |  17500     | 0.961255   |\n",
       "| 2009-01-05 | 1.4836     | 1.5832     | 1.4836     | 1.5400     | 155000     | 0.973904   |\n",
       "| 2009-01-06 | 1.5360     | 1.5680     | 1.5200     | 1.5680     |  20000     | 0.991611   |\n",
       "| 2009-01-07 | 1.5084     | 1.5456     | 1.4804     | 1.5304     |  25000     | 0.967832   |\n",
       "| 2009-01-08 | 1.4848     | 1.4976     | 1.4700     | 1.4700     |  32500     | 0.929635   |\n",
       "| 2009-01-09 | 1.4800     | 1.4900     | 1.4520     | 1.4900     |  67500     | 0.942283   |\n",
       "\n"
      ],
      "text/plain": [
       "  Date       Open   High   Low    Close  Volume Ajustado\n",
       "1 2009-01-02 1.4460 1.5200 1.4460 1.5200  17500 0.961255\n",
       "2 2009-01-05 1.4836 1.5832 1.4836 1.5400 155000 0.973904\n",
       "3 2009-01-06 1.5360 1.5680 1.5200 1.5680  20000 0.991611\n",
       "4 2009-01-07 1.5084 1.5456 1.4804 1.5304  25000 0.967832\n",
       "5 2009-01-08 1.4848 1.4976 1.4700 1.4700  32500 0.929635\n",
       "6 2009-01-09 1.4800 1.4900 1.4520 1.4900  67500 0.942283"
      ]
     },
     "metadata": {},
     "output_type": "display_data"
    }
   ],
   "source": [
    "Date <- rownames(ASSET)\n",
    " \n",
    "rownames(ASSET) <- NULL\n",
    "\n",
    "ASSET <- cbind(Date, ASSET)\n",
    "\n",
    "head(ASSET)"
   ]
  },
  {
   "cell_type": "code",
   "execution_count": 74,
   "id": "7a318c0d",
   "metadata": {},
   "outputs": [
    {
     "data": {
      "text/html": [
       "<table>\n",
       "<thead><tr><th scope=col>Date</th><th scope=col>Open</th><th scope=col>High</th><th scope=col>Low</th><th scope=col>Close</th><th scope=col>Volume</th><th scope=col>Ajustado</th><th scope=col>Close_Shift</th><th scope=col>Retornos</th></tr></thead>\n",
       "<tbody>\n",
       "\t<tr><td>2009-01-02</td><td>1.4460    </td><td>1.5200    </td><td>1.4460    </td><td>1.5200    </td><td> 17500    </td><td>0.961255  </td><td>0.0000    </td><td> 0.000000 </td></tr>\n",
       "\t<tr><td>2009-01-05</td><td>1.4836    </td><td>1.5832    </td><td>1.4836    </td><td>1.5400    </td><td>155000    </td><td>0.973904  </td><td>1.5200    </td><td> 1.315789 </td></tr>\n",
       "\t<tr><td>2009-01-06</td><td>1.5360    </td><td>1.5680    </td><td>1.5200    </td><td>1.5680    </td><td> 20000    </td><td>0.991611  </td><td>1.5400    </td><td> 1.818182 </td></tr>\n",
       "\t<tr><td>2009-01-07</td><td>1.5084    </td><td>1.5456    </td><td>1.4804    </td><td>1.5304    </td><td> 25000    </td><td>0.967832  </td><td>1.5680    </td><td>-2.397959 </td></tr>\n",
       "\t<tr><td>2009-01-08</td><td>1.4848    </td><td>1.4976    </td><td>1.4700    </td><td>1.4700    </td><td> 32500    </td><td>0.929635  </td><td>1.5304    </td><td>-3.946681 </td></tr>\n",
       "\t<tr><td>2009-01-09</td><td>1.4800    </td><td>1.4900    </td><td>1.4520    </td><td>1.4900    </td><td> 67500    </td><td>0.942283  </td><td>1.4700    </td><td> 1.360544 </td></tr>\n",
       "</tbody>\n",
       "</table>\n"
      ],
      "text/latex": [
       "\\begin{tabular}{r|lllllllll}\n",
       " Date & Open & High & Low & Close & Volume & Ajustado & Close\\_Shift & Retornos\\\\\n",
       "\\hline\n",
       "\t 2009-01-02 & 1.4460     & 1.5200     & 1.4460     & 1.5200     &  17500     & 0.961255   & 0.0000     &  0.000000 \\\\\n",
       "\t 2009-01-05 & 1.4836     & 1.5832     & 1.4836     & 1.5400     & 155000     & 0.973904   & 1.5200     &  1.315789 \\\\\n",
       "\t 2009-01-06 & 1.5360     & 1.5680     & 1.5200     & 1.5680     &  20000     & 0.991611   & 1.5400     &  1.818182 \\\\\n",
       "\t 2009-01-07 & 1.5084     & 1.5456     & 1.4804     & 1.5304     &  25000     & 0.967832   & 1.5680     & -2.397959 \\\\\n",
       "\t 2009-01-08 & 1.4848     & 1.4976     & 1.4700     & 1.4700     &  32500     & 0.929635   & 1.5304     & -3.946681 \\\\\n",
       "\t 2009-01-09 & 1.4800     & 1.4900     & 1.4520     & 1.4900     &  67500     & 0.942283   & 1.4700     &  1.360544 \\\\\n",
       "\\end{tabular}\n"
      ],
      "text/markdown": [
       "\n",
       "| Date | Open | High | Low | Close | Volume | Ajustado | Close_Shift | Retornos |\n",
       "|---|---|---|---|---|---|---|---|---|\n",
       "| 2009-01-02 | 1.4460     | 1.5200     | 1.4460     | 1.5200     |  17500     | 0.961255   | 0.0000     |  0.000000  |\n",
       "| 2009-01-05 | 1.4836     | 1.5832     | 1.4836     | 1.5400     | 155000     | 0.973904   | 1.5200     |  1.315789  |\n",
       "| 2009-01-06 | 1.5360     | 1.5680     | 1.5200     | 1.5680     |  20000     | 0.991611   | 1.5400     |  1.818182  |\n",
       "| 2009-01-07 | 1.5084     | 1.5456     | 1.4804     | 1.5304     |  25000     | 0.967832   | 1.5680     | -2.397959  |\n",
       "| 2009-01-08 | 1.4848     | 1.4976     | 1.4700     | 1.4700     |  32500     | 0.929635   | 1.5304     | -3.946681  |\n",
       "| 2009-01-09 | 1.4800     | 1.4900     | 1.4520     | 1.4900     |  67500     | 0.942283   | 1.4700     |  1.360544  |\n",
       "\n"
      ],
      "text/plain": [
       "  Date       Open   High   Low    Close  Volume Ajustado Close_Shift Retornos \n",
       "1 2009-01-02 1.4460 1.5200 1.4460 1.5200  17500 0.961255 0.0000       0.000000\n",
       "2 2009-01-05 1.4836 1.5832 1.4836 1.5400 155000 0.973904 1.5200       1.315789\n",
       "3 2009-01-06 1.5360 1.5680 1.5200 1.5680  20000 0.991611 1.5400       1.818182\n",
       "4 2009-01-07 1.5084 1.5456 1.4804 1.5304  25000 0.967832 1.5680      -2.397959\n",
       "5 2009-01-08 1.4848 1.4976 1.4700 1.4700  32500 0.929635 1.5304      -3.946681\n",
       "6 2009-01-09 1.4800 1.4900 1.4520 1.4900  67500 0.942283 1.4700       1.360544"
      ]
     },
     "metadata": {},
     "output_type": "display_data"
    },
    {
     "data": {
      "text/html": [
       "<ol class=list-inline>\n",
       "\t<li>3292</li>\n",
       "\t<li>9</li>\n",
       "</ol>\n"
      ],
      "text/latex": [
       "\\begin{enumerate*}\n",
       "\\item 3292\n",
       "\\item 9\n",
       "\\end{enumerate*}\n"
      ],
      "text/markdown": [
       "1. 3292\n",
       "2. 9\n",
       "\n",
       "\n"
      ],
      "text/plain": [
       "[1] 3292    9"
      ]
     },
     "metadata": {},
     "output_type": "display_data"
    }
   ],
   "source": [
    "# Fazendo o calculo dos retornos\n",
    "\n",
    "ASSET$Close_Shift <- ASSET$Close\n",
    "ASSET['Close_Shift'] <- c(NA, head(ASSET['Close_Shift'], dim(ASSET)[1] - 1)[[1]])\n",
    "\n",
    "ASSET$Retornos <- (ASSET$Close/ASSET$Close_Shift-1)*100\n",
    "\n",
    "#Transformando os valores faltantes - missing values - em zero\n",
    "ASSET[is.na(ASSET)] <- 0\n",
    "\n",
    "head(ASSET)\n",
    "\n",
    "dim(ASSET)"
   ]
  },
  {
   "cell_type": "code",
   "execution_count": 75,
   "id": "090050d4",
   "metadata": {},
   "outputs": [],
   "source": [
    "library(AnomalyDetection)\n",
    "library(hrbrthemes)"
   ]
  },
  {
   "cell_type": "code",
   "execution_count": 76,
   "id": "af901377",
   "metadata": {},
   "outputs": [],
   "source": [
    "sub_ASSET <- ASSET[, c(\"Date\",\"Retornos\")]\n",
    "sub_ASSET$Date <- as.POSIXct(sub_ASSET$Date)"
   ]
  },
  {
   "cell_type": "code",
   "execution_count": 77,
   "id": "cdba870d",
   "metadata": {},
   "outputs": [
    {
     "data": {
      "text/plain": [
       "   timestamp                       anoms         \n",
       " Min.   :2009-01-20 00:00:00   Min.   :-10.2023  \n",
       " 1st Qu.:2009-06-30 12:00:00   1st Qu.: -7.1587  \n",
       " Median :2011-08-08 00:00:00   Median : -6.4464  \n",
       " Mean   :2010-12-11 06:51:25   Mean   : -0.4631  \n",
       " 3rd Qu.:2012-01-04 12:00:00   3rd Qu.:  7.9637  \n",
       " Max.   :2012-12-10 00:00:00   Max.   : 11.7965  "
      ]
     },
     "metadata": {},
     "output_type": "display_data"
    },
    {
     "data": {
      "text/html": [
       "<ol class=list-inline>\n",
       "\t<li>7</li>\n",
       "\t<li>2</li>\n",
       "</ol>\n"
      ],
      "text/latex": [
       "\\begin{enumerate*}\n",
       "\\item 7\n",
       "\\item 2\n",
       "\\end{enumerate*}\n"
      ],
      "text/markdown": [
       "1. 7\n",
       "2. 2\n",
       "\n",
       "\n"
      ],
      "text/plain": [
       "[1] 7 2"
      ]
     },
     "metadata": {},
     "output_type": "display_data"
    }
   ],
   "source": [
    "# Utilizando a técnica do Twitter - Método Seasonal Hybrid ESD (S-H-ESD)\n",
    "\n",
    "# Fazendo apenas com um pedaço da base, para simular um treinamento com 50% da base\n",
    "\n",
    "train_size <- dim(ASSET)[1]*0.5\n",
    "\n",
    "anomalias_ASSET <- AnomalyDetectionTs(sub_ASSET[1:train_size,], max_anoms = 0.05, direction='both', alpha=0.05)\n",
    "\n",
    "summary(anomalias_ASSET)\n",
    "\n",
    "dim(anomalias_ASSET)\n",
    "\n",
    "#Repare que o nome de \"Date\" virou \"timestamp\""
   ]
  },
  {
   "cell_type": "code",
   "execution_count": 78,
   "id": "c4c97962",
   "metadata": {},
   "outputs": [],
   "source": [
    "library(ggplot2)"
   ]
  },
  {
   "cell_type": "code",
   "execution_count": 79,
   "id": "f7137f7a",
   "metadata": {},
   "outputs": [
    {
     "data": {
      "image/png": "[encoded data removed]",
      "text/plain": [
       "plot without title"
      ]
     },
     "metadata": {},
     "output_type": "display_data"
    }
   ],
   "source": [
    "#Gráfico co as anomalias da base do Twitter\n",
    "\n",
    "# Para o ggplt2\n",
    "sub_ASSET$Date <- as.POSIXct(sub_ASSET$Date)\n",
    "\n",
    "ggplot() + \n",
    "geom_line(\n",
    "    data = sub_ASSET, aes(Date, Retornos),\n",
    "    size = 0.125, color = \"blue\"\n",
    ") +\n",
    "geom_point(\n",
    "    data = anomalias_ASSET, aes(timestamp, anoms), color = \"#cb181d\", alpha= 1/3\n",
    ") +\n",
    "scale_x_datetime(date_labels = \"%b/%y\") +\n",
    "scale_y_comma()"
   ]
  },
  {
   "cell_type": "code",
   "execution_count": 80,
   "id": "d7bb02d3",
   "metadata": {},
   "outputs": [
    {
     "data": {
      "text/html": [
       "4.62066593134554"
      ],
      "text/latex": [
       "4.62066593134554"
      ],
      "text/markdown": [
       "4.62066593134554"
      ],
      "text/plain": [
       "[1] 4.620666"
      ]
     },
     "metadata": {},
     "output_type": "display_data"
    },
    {
     "data": {
      "text/html": [
       "-3.87075329281534"
      ],
      "text/latex": [
       "-3.87075329281534"
      ],
      "text/markdown": [
       "-3.87075329281534"
      ],
      "text/plain": [
       "[1] -3.870753"
      ]
     },
     "metadata": {},
     "output_type": "display_data"
    }
   ],
   "source": [
    "# Calculando o ponto de corte para os retornos anomalos positivos e negativos\n",
    "\n",
    "multiplier <- 0.5\n",
    "\n",
    "anom_pos <- mean(data.matrix(anomalias_ASSET[anomalias_ASSET$anoms > 0, \"anoms\"]))*multiplier\n",
    "\n",
    "anom_neg <- mean(data.matrix(anomalias_ASSET[anomalias_ASSET$anoms < 0, \"anoms\"]))*multiplier\n",
    "\n",
    "anom_pos\n",
    "anom_neg"
   ]
  },
  {
   "cell_type": "code",
   "execution_count": 81,
   "id": "8cf953a4",
   "metadata": {},
   "outputs": [
    {
     "data": {
      "text/html": [
       "26"
      ],
      "text/latex": [
       "26"
      ],
      "text/markdown": [
       "26"
      ],
      "text/plain": [
       "[1] 26"
      ]
     },
     "metadata": {},
     "output_type": "display_data"
    }
   ],
   "source": [
    "# Vamos testar a performance da nossa base de treinamento\n",
    "\n",
    "TRAIN_ASSET <- ASSET[1:train_size,]\n",
    "\n",
    "TRAIN_ASSET$anoms <- ifelse(TRAIN_ASSET$Retornos > anom_pos, 1, 0)\n",
    "TRAIN_ASSET$anoms <- ifelse(TRAIN_ASSET$anoms < anom_neg, -1, TRAIN_ASSET$anoms)\n",
    "\n",
    "sum(TRAIN_ASSET$anoms != 0)"
   ]
  },
  {
   "cell_type": "code",
   "execution_count": 82,
   "id": "a1ba98bd",
   "metadata": {},
   "outputs": [],
   "source": [
    "# Criando o alvo\n",
    "\n",
    "desloca <- function(x, n){\n",
    "    c(x[-(seq(n))], rep(NA, n))\n",
    "}\n",
    "\n",
    "TRAIN_ASSET$Alvo <- desloca(TRAIN_ASSET$Retornos, 1)\n",
    "\n",
    "TRAIN_ASSET[is.na(TRAIN_ASSET)] <- 0"
   ]
  },
  {
   "cell_type": "code",
   "execution_count": 83,
   "id": "6faae9d7",
   "metadata": {},
   "outputs": [],
   "source": [
    "# Averiguando o resultado\n",
    "\n",
    "trend <- -1\n",
    "\n",
    "TRAIN_ASSET$Resultado <- TRAIN_ASSET$anoms*TRAIN_ASSET$Alvo*trend\n",
    "\n",
    "retorno_modelo_acumulado_TRAIN <- cumsum(TRAIN_ASSET$Resultado)"
   ]
  },
  {
   "cell_type": "code",
   "execution_count": 84,
   "id": "848272d9",
   "metadata": {},
   "outputs": [
    {
     "data": {
      "image/png": "[encoded data removed]",
      "text/plain": [
       "Plot with title \"Retorno do Trading System Anomalia - Treinamento\""
      ]
     },
     "metadata": {},
     "output_type": "display_data"
    }
   ],
   "source": [
    "plot(retorno_modelo_acumulado_TRAIN, type = \"l\", col = \"red\", lwd = 2,\n",
    "    main = \"Retorno do Trading System Anomalia - Treinamento\",\n",
    "    xlab = \"Período\",\n",
    "    ylab = \"Retorno em %\")"
   ]
  },
  {
   "cell_type": "code",
   "execution_count": 85,
   "id": "dd50665c",
   "metadata": {},
   "outputs": [
    {
     "data": {
      "text/html": [
       "471"
      ],
      "text/latex": [
       "471"
      ],
      "text/markdown": [
       "471"
      ],
      "text/plain": [
       "[1] 471"
      ]
     },
     "metadata": {},
     "output_type": "display_data"
    }
   ],
   "source": [
    "#Primeiro, precisamos agora criar a nossa coluna de anomalia baseado no ponto de corte do treinaento\n",
    "# dentro de uma nova base de teste que não contem as mesmas anomalias do treinamento\n",
    "\n",
    "TEST_ASSET <- ASSET[(train_size+1):dim(ASSET)[1],]\n",
    "\n",
    "TEST_ASSET$anoms <- ifelse(TEST_ASSET$Retornos > 1, anom_pos, 0)\n",
    "TEST_ASSET$anoms <- ifelse(TEST_ASSET$anoms < anom_neg, -1, TEST_ASSET$anoms)\n",
    "\n",
    "sum(TEST_ASSET$anoms != 0)"
   ]
  },
  {
   "cell_type": "code",
   "execution_count": 86,
   "id": "de3b67f0",
   "metadata": {},
   "outputs": [],
   "source": [
    "#Criando o alvo\n",
    "\n",
    "TEST_ASSET$Alvo <- desloca(TEST_ASSET$Retorno, 1)\n",
    "\n",
    "TEST_ASSET[is.na(TEST_ASSET)] <- 0"
   ]
  },
  {
   "cell_type": "code",
   "execution_count": 87,
   "id": "c779ad87",
   "metadata": {},
   "outputs": [],
   "source": [
    "#Averiguando o resultado\n",
    "\n",
    "TEST_ASSET$Resultado <- TEST_ASSET$anoms*TEST_ASSET$Alvo*trend\n",
    "\n",
    "retorno_modelo_acumulado <- cumsum(TEST_ASSET$Resultado)"
   ]
  },
  {
   "cell_type": "code",
   "execution_count": 88,
   "id": "bb66a077",
   "metadata": {},
   "outputs": [
    {
     "data": {
      "image/png": "[encoded data removed]",
      "text/plain": [
       "Plot with title \"Retorno do Trading System Anomalia - Teste\""
      ]
     },
     "metadata": {},
     "output_type": "display_data"
    }
   ],
   "source": [
    "plot(retorno_modelo_acumulado, type = \"l\", col = \"red\", lwd = 2,\n",
    "    main = \"Retorno do Trading System Anomalia - Teste\",\n",
    "    xlab = \"Período\",\n",
    "    ylab = \"Retorno em %\")"
   ]
  }
 ],
 "metadata": {
  "kernelspec": {
   "display_name": "R",
   "language": "R",
   "name": "ir"
  },
  "language_info": {
   "codemirror_mode": "r",
   "file_extension": ".r",
   "mimetype": "text/x-r-source",
   "name": "R",
   "pygments_lexer": "r",
   "version": "3.6.1"
  }
 },
 "nbformat": 4,
 "nbformat_minor": 5
}
